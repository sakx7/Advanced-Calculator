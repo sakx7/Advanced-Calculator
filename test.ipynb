{
 "cells": [
  {
   "cell_type": "code",
   "execution_count": null,
   "id": "6a530da1",
   "metadata": {},
   "outputs": [
    {
     "data": {
      "text/latex": [
       "$\\displaystyle \\frac{x^{2}}{x - 1}$"
      ],
      "text/plain": [
       "x**2/(x - 1)"
      ]
     },
     "metadata": {},
     "output_type": "display_data"
    },
    {
     "name": "stdout",
     "output_type": "stream",
     "text": [
      "\n",
      "=== Partial Fraction Expansion ===\n"
     ]
    },
    {
     "data": {
      "text/latex": [
       "$\\displaystyle x + 1 + \\frac{1}{x - 1}$"
      ],
      "text/plain": [
       "x + 1 + 1/(x - 1)"
      ]
     },
     "metadata": {},
     "output_type": "display_data"
    },
    {
     "name": "stdout",
     "output_type": "stream",
     "text": [
      "\n",
      "=== Roots ===\n"
     ]
    },
    {
     "data": {
      "text/plain": [
       "['x = 0']"
      ]
     },
     "metadata": {},
     "output_type": "display_data"
    },
    {
     "name": "stdout",
     "output_type": "stream",
     "text": [
      "\n",
      "=== Properties ===\n"
     ]
    },
    {
     "data": {
      "text/latex": [
       "$\\displaystyle \\left(-\\infty, 1\\right) \\cup \\left(1, \\infty\\right)$"
      ],
      "text/plain": [
       "Union(Interval.open(-oo, 1), Interval.open(1, oo))"
      ]
     },
     "metadata": {},
     "output_type": "display_data"
    },
    {
     "data": {
      "text/latex": [
       "$\\displaystyle \\left(-\\infty, 0\\right] \\cup \\left[4, \\infty\\right)$"
      ],
      "text/plain": [
       "Union(Interval(-oo, 0), Interval(4, oo))"
      ]
     },
     "metadata": {},
     "output_type": "display_data"
    },
    {
     "data": {
      "text/plain": [
       "False"
      ]
     },
     "metadata": {},
     "output_type": "display_data"
    },
    {
     "name": "stdout",
     "output_type": "stream",
     "text": [
      "\n",
      "=== Limits ===\n"
     ]
    },
    {
     "data": {
      "text/latex": [
       "$\\displaystyle 0$"
      ],
      "text/plain": [
       "0"
      ]
     },
     "metadata": {},
     "output_type": "display_data"
    },
    {
     "data": {
      "text/latex": [
       "$\\displaystyle \\infty$"
      ],
      "text/plain": [
       "oo"
      ]
     },
     "metadata": {},
     "output_type": "display_data"
    },
    {
     "name": "stdout",
     "output_type": "stream",
     "text": [
      "\n",
      "=== Series ===\n"
     ]
    },
    {
     "data": {
      "text/latex": [
       "$\\displaystyle - x^{9} - x^{8} - x^{7} - x^{6} - x^{5} - x^{4} - x^{3} - x^{2}$"
      ],
      "text/plain": [
       "-x**9 - x**8 - x**7 - x**6 - x**5 - x**4 - x**3 - x**2"
      ]
     },
     "metadata": {},
     "output_type": "display_data"
    },
    {
     "data": {
      "text/latex": [
       "$\\displaystyle x + 1 + \\frac{1}{x} + \\frac{1}{x^{2}} + \\frac{1}{x^{3}} + \\frac{1}{x^{4}} + \\frac{1}{x^{5}} + \\frac{1}{x^{6}} + \\frac{1}{x^{7}} + \\frac{1}{x^{8}} + \\frac{1}{x^{9}}$"
      ],
      "text/plain": [
       "x + 1 + 1/x + x**(-2) + x**(-3) + x**(-4) + x**(-5) + x**(-6) + x**(-7) + x**(-8) + x**(-9)"
      ]
     },
     "metadata": {},
     "output_type": "display_data"
    }
   ],
   "source": [
    "from sympy import *\n",
    "from sympy.calculus.util import continuous_domain, function_range\n",
    "from IPython.display import display\n",
    "\n",
    "x= symbols('x')\n",
    "expr = x**2/(x - 1)\n",
    "\n",
    "def silent_eval(operation, default=None):\n",
    "    \"\"\"Evaluate operation silently, return default on failure\"\"\"\n",
    "    try:\n",
    "        result = operation()\n",
    "        return result if result is not None else default\n",
    "    except:\n",
    "        return default\n",
    "\n",
    "categories = {\n",
    "    \"Alternate form\": [\n",
    "        silent_eval(lambda: factor(expr)),\n",
    "        silent_eval(lambda: simplify(expr)),\n",
    "    ],    \n",
    "    \"Expanded Forms\": [\n",
    "        silent_eval(lambda: expand(expr)),\n",
    "        silent_eval(lambda: expand_trig(expr)),\n",
    "        silent_eval(lambda: expand_log(expr)),\n",
    "        silent_eval(lambda: expand_power_exp(expr)),\n",
    "    ],\n",
    "    \"Trig Forms\": [\n",
    "        silent_eval(lambda: expr.rewrite(sin)),\n",
    "        silent_eval(lambda: expr.rewrite(cos)),\n",
    "        silent_eval(lambda: expr.rewrite(tan)),\n",
    "    ],\n",
    "    #\"e log and i forms\": [    \n",
    "    #    silent_eval(lambda: expr.rewrite(exp)),\n",
    "    #],\n",
    "    \"Partial Fraction Expansion\": [\n",
    "        silent_eval(lambda: apart(expr) if expr.is_rational_function() else expr),\n",
    "    ],\n",
    "    \"Roots\": [\n",
    "    silent_eval(lambda: [f\"x = {i}\" for i in solve(expr, x)] if solve(expr, x) else [\"No real roots\"]),\n",
    "    silent_eval(lambda: roots(expr, x) if expr.is_polynomial(x) else None),\n",
    "    ],\n",
    "    \"Properties\": [\n",
    "        silent_eval(lambda: continuous_domain(expr, x, S.Reals)),\n",
    "        silent_eval(lambda: function_range(expr, x, S.Reals)),\n",
    "        silent_eval(lambda: is_increasing(expr, S.Reals, x)),\n",
    "        silent_eval(lambda: is_decreasing(expr, S.Reals, x)),\n",
    "    ],\n",
    "    #\"Derivative\": [\n",
    "    #    silent_eval(lambda: diff(expr, x)),\n",
    "    #],\n",
    "    #\"Integration\": [\n",
    "    #    silent_eval(lambda: integrate(expr, x)),    \n",
    "    #],\n",
    "    \"Limits\": [\n",
    "        silent_eval(lambda: limit(expr, x, 0)),\n",
    "        silent_eval(lambda: limit(expr, x, oo)),\n",
    "    ],\n",
    "    \"Series\": [\n",
    "        silent_eval(lambda: series(expr, x, 0, 10).removeO()),\n",
    "        silent_eval(lambda: series(expr, x, oo, 10).removeO()),\n",
    "    ]\n",
    "}\n",
    "\n",
    "\n",
    "# Global tracking of seen expressions\n",
    "seen_expressions = {str(expr)}\n",
    "unique_expressions_grouped = {}\n",
    "\n",
    "for category, expr_list in categories.items():\n",
    "    unique_exprs = []\n",
    "    for e in expr_list:\n",
    "        if e is not None:\n",
    "            expr_str = str(e)\n",
    "            if expr_str not in seen_expressions:\n",
    "                seen_expressions.add(expr_str)\n",
    "                unique_exprs.append(e)\n",
    "    \n",
    "    if unique_exprs:\n",
    "        unique_expressions_grouped[category] = unique_exprs\n",
    "\n",
    "display(expr)\n",
    "for category, exprs in unique_expressions_grouped.items():\n",
    "    print(f\"\\n=== {category} ===\")\n",
    "    for i, e in enumerate(exprs, 1):\n",
    "        try:\n",
    "            display(e)\n",
    "        except:\n",
    "            print(e)"
   ]
  },
  {
   "cell_type": "code",
   "execution_count": null,
   "id": "c0b16bc0",
   "metadata": {},
   "outputs": [],
   "source": []
  }
 ],
 "metadata": {
  "kernelspec": {
   "display_name": "newenv",
   "language": "python",
   "name": "python3"
  },
  "language_info": {
   "codemirror_mode": {
    "name": "ipython",
    "version": 3
   },
   "file_extension": ".py",
   "mimetype": "text/x-python",
   "name": "python",
   "nbconvert_exporter": "python",
   "pygments_lexer": "ipython3",
   "version": "3.11.11"
  }
 },
 "nbformat": 4,
 "nbformat_minor": 5
}
